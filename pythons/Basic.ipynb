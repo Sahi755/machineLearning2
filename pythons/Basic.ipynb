{
 "cells": [
  {
   "cell_type": "code",
   "execution_count": 109,
   "id": "ebdfb7ec",
   "metadata": {},
   "outputs": [
    {
     "name": "stdout",
     "output_type": "stream",
     "text": [
      "23\n"
     ]
    }
   ],
   "source": [
    "#Declare an integer variable age and assign your age.\n",
    "age=23\n",
    "print(age);"
   ]
  },
  {
   "cell_type": "code",
   "execution_count": 110,
   "id": "afb04c8a",
   "metadata": {},
   "outputs": [
    {
     "name": "stdout",
     "output_type": "stream",
     "text": [
      "3.14159\n"
     ]
    }
   ],
   "source": [
    "#Create a float variable pi with value 3.14159.\n",
    "defpi=3.14159\n",
    "print(defpi) "
   ]
  },
  {
   "cell_type": "code",
   "execution_count": 111,
   "id": "cc187f33",
   "metadata": {},
   "outputs": [
    {
     "name": "stdout",
     "output_type": "stream",
     "text": [
      "Sahil Sanjana Bhosale\n"
     ]
    }
   ],
   "source": [
    "#Store your name in a string variable name.\n",
    "Myname=\"Sahil Sanjana Bhosale\"\n",
    "print(Myname)"
   ]
  },
  {
   "cell_type": "code",
   "execution_count": 112,
   "id": "8b84342b",
   "metadata": {},
   "outputs": [
    {
     "name": "stdout",
     "output_type": "stream",
     "text": [
      "(3+4j)\n"
     ]
    }
   ],
   "source": [
    "#Create a complex number z = 3 + 4j.\n",
    "Z=3+4j\n",
    "print(Z)"
   ]
  },
  {
   "cell_type": "code",
   "execution_count": 113,
   "id": "27a94521",
   "metadata": {},
   "outputs": [
    {
     "name": "stdout",
     "output_type": "stream",
     "text": [
      "<class 'float'>\n"
     ]
    }
   ],
   "source": [
    "#Print the type of variable pi.\n",
    "pi=3.14159\n",
    "print(type(pi))"
   ]
  },
  {
   "cell_type": "code",
   "execution_count": 114,
   "id": "465f1492",
   "metadata": {},
   "outputs": [
    {
     "name": "stdout",
     "output_type": "stream",
     "text": [
      "None\n"
     ]
    }
   ],
   "source": [
    "#ssign None to a variable and print it.\n",
    "name=None\n",
    "print(name)"
   ]
  },
  {
   "cell_type": "code",
   "execution_count": 115,
   "id": "0e583b5b",
   "metadata": {},
   "outputs": [
    {
     "name": "stdout",
     "output_type": "stream",
     "text": [
      "<class 'bool'>\n",
      "<class 'bool'>\n"
     ]
    }
   ],
   "source": [
    "ismarried=True\n",
    "isnotmarred=False\n",
    "print(type(ismarried))\n",
    "print(type(isnotmarred))"
   ]
  },
  {
   "cell_type": "code",
   "execution_count": 116,
   "id": "f0e70164",
   "metadata": {},
   "outputs": [
    {
     "name": "stdout",
     "output_type": "stream",
     "text": [
      "a = 10 b = 5\n"
     ]
    }
   ],
   "source": [
    "#Swap values of two variables without using a third variable\n",
    "a = 5\n",
    "b = 10\n",
    "\n",
    "a = a + b  # a = 15\n",
    "b = a - b  # b = 5\n",
    "a = a - b  # a = 10\n",
    "\n",
    "print(\"a =\", a, \"b =\", b)"
   ]
  },
  {
   "cell_type": "code",
   "execution_count": 117,
   "id": "778de975",
   "metadata": {},
   "outputs": [
    {
     "name": "stdout",
     "output_type": "stream",
     "text": [
      "46\n"
     ]
    }
   ],
   "source": [
    "num1=12\n",
    "num2=34\n",
    "print(num1+num2)"
   ]
  },
  {
   "cell_type": "code",
   "execution_count": 118,
   "id": "cfa58263",
   "metadata": {},
   "outputs": [
    {
     "name": "stdout",
     "output_type": "stream",
     "text": [
      "0.3999999999999999\n"
     ]
    }
   ],
   "source": [
    "#Subtract a float from an integer.\n",
    "num1=3\n",
    "num2=3.4\n",
    "print(num2-num1)"
   ]
  },
  {
   "cell_type": "code",
   "execution_count": 119,
   "id": "b112eb42",
   "metadata": {},
   "outputs": [
    {
     "name": "stdout",
     "output_type": "stream",
     "text": [
      "9.9225\n"
     ]
    }
   ],
   "source": [
    "#Multiply two floating numbers.\n",
    "num1=3.15\n",
    "num2=3.15\n",
    "ans=num1*num2\n",
    "print(ans)"
   ]
  },
  {
   "cell_type": "code",
   "execution_count": 120,
   "id": "3a3fd06a",
   "metadata": {},
   "outputs": [
    {
     "name": "stdout",
     "output_type": "stream",
     "text": [
      "5.0\n"
     ]
    }
   ],
   "source": [
    "#Divide two integers and display the result.\n",
    "div1=15\n",
    "div2=3\n",
    "print(div1/div2)\n"
   ]
  },
  {
   "cell_type": "code",
   "execution_count": 121,
   "id": "5d4de4da",
   "metadata": {},
   "outputs": [
    {
     "name": "stdout",
     "output_type": "stream",
     "text": [
      "2\n"
     ]
    }
   ],
   "source": [
    "#Find the remainder when 17 is divided by 5.\n",
    "num1=17\n",
    "num2=5\n",
    "rim=num1%num2\n",
    "print(rim)"
   ]
  },
  {
   "cell_type": "code",
   "execution_count": 122,
   "id": "b681c0a4",
   "metadata": {},
   "outputs": [
    {
     "name": "stdout",
     "output_type": "stream",
     "text": [
      "2401\n"
     ]
    }
   ],
   "source": [
    "#Find 7 to the power of 4.\n",
    "base=7\n",
    "exp=4\n",
    "pow=(base**exp)\n",
    "print(pow)"
   ]
  },
  {
   "cell_type": "code",
   "execution_count": 123,
   "id": "12509d6e",
   "metadata": {},
   "outputs": [
    {
     "name": "stdout",
     "output_type": "stream",
     "text": [
      "3\n"
     ]
    }
   ],
   "source": [
    "#Use floor division to divide 22 by 7.\n",
    "num1=22\n",
    "num2=7\n",
    "floordiv=num1//num2\n",
    "print(floordiv)"
   ]
  },
  {
   "cell_type": "code",
   "execution_count": 124,
   "id": "b759871d",
   "metadata": {},
   "outputs": [
    {
     "name": "stdout",
     "output_type": "stream",
     "text": [
      "3.0\n",
      "4.0\n"
     ]
    }
   ],
   "source": [
    "#Create a complex number and print its real and imaginary parts.\n",
    "\n",
    "z=3+4j\n",
    "print(z.real)\n",
    "print(z.imag)"
   ]
  },
  {
   "cell_type": "code",
   "execution_count": 125,
   "id": "e81eec56",
   "metadata": {},
   "outputs": [
    {
     "name": "stdout",
     "output_type": "stream",
     "text": [
      "3.0\n"
     ]
    }
   ],
   "source": [
    "#Convert an integer to float using float().\n",
    "intme=3\n",
    "flt=float(intme)\n",
    "print(flt)"
   ]
  },
  {
   "cell_type": "code",
   "execution_count": 126,
   "id": "684295a4",
   "metadata": {},
   "outputs": [
    {
     "name": "stdout",
     "output_type": "stream",
     "text": [
      "17\n"
     ]
    }
   ],
   "source": [
    "#Create a string \"PythonProgramming\" and print its length.\n",
    "lenth=\"PythonProgramming\"\n",
    "print(len(lenth))\n"
   ]
  },
  {
   "cell_type": "code",
   "execution_count": 127,
   "id": "ee645f63",
   "metadata": {},
   "outputs": [
    {
     "name": "stdout",
     "output_type": "stream",
     "text": [
      "H\n"
     ]
    }
   ],
   "source": [
    "#Print the first and last character of \"HelloWorld\".\n",
    "first=\"HelloWorld\"\n",
    "print(first[0])"
   ]
  },
  {
   "cell_type": "code",
   "execution_count": 128,
   "id": "8d15a2c2",
   "metadata": {},
   "outputs": [
    {
     "name": "stdout",
     "output_type": "stream",
     "text": [
      "gram\n"
     ]
    }
   ],
   "source": [
    "#Slice \"Programming\" to get \"gram\".\n",
    "slices=\"Programming\"\n",
    "print(slices[3:7])"
   ]
  },
  {
   "cell_type": "code",
   "execution_count": 130,
   "id": "f8c8d5d5",
   "metadata": {},
   "outputs": [
    {
     "name": "stdout",
     "output_type": "stream",
     "text": [
      "True\n"
     ]
    }
   ],
   "source": [
    "#check if 10 > 5 returns True.\n",
    "\n",
    "def maxof():\n",
    "   if 10>5:\n",
    "     return True\n",
    "    \n",
    "   \n",
    "print(maxof())\n"
   ]
  },
  {
   "cell_type": "code",
   "execution_count": 131,
   "id": "680284c4",
   "metadata": {},
   "outputs": [
    {
     "name": "stdout",
     "output_type": "stream",
     "text": [
      "False\n"
     ]
    }
   ],
   "source": [
    "#Assign a boolean is_student = False and print it.\n",
    "\n",
    "is_student=False\n",
    "print(is_student)"
   ]
  },
  {
   "cell_type": "code",
   "execution_count": 132,
   "id": "0fc7951b",
   "metadata": {},
   "outputs": [
    {
     "name": "stdout",
     "output_type": "stream",
     "text": [
      "False\n"
     ]
    }
   ],
   "source": [
    "#Compare two numbers and store result in a boolean variable.\n",
    "num1=34\n",
    "num2=36\n",
    "ans=num1==num2\n",
    "print(ans)"
   ]
  },
  {
   "cell_type": "code",
   "execution_count": 134,
   "id": "5a60026e",
   "metadata": {},
   "outputs": [],
   "source": [
    "#Check if None == False.\n"
   ]
  },
  {
   "cell_type": "code",
   "execution_count": 135,
   "id": "86cb7d34",
   "metadata": {},
   "outputs": [
    {
     "name": "stdout",
     "output_type": "stream",
     "text": [
      "(1, 2, 3, 4)\n"
     ]
    }
   ],
   "source": [
    "#Convert list [1,2,3] into a tuple\n",
    "num=tuple([1,2,3,4])\n",
    "print(num)"
   ]
  },
  {
   "cell_type": "code",
   "execution_count": null,
   "id": "e95c4e27",
   "metadata": {},
   "outputs": [],
   "source": []
  }
 ],
 "metadata": {
  "kernelspec": {
   "display_name": "base",
   "language": "python",
   "name": "python3"
  },
  "language_info": {
   "codemirror_mode": {
    "name": "ipython",
    "version": 3
   },
   "file_extension": ".py",
   "mimetype": "text/x-python",
   "name": "python",
   "nbconvert_exporter": "python",
   "pygments_lexer": "ipython3",
   "version": "3.12.7"
  }
 },
 "nbformat": 4,
 "nbformat_minor": 5
}
