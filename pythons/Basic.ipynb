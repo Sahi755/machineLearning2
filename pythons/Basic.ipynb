{
 "cells": [
  {
   "cell_type": "code",
   "execution_count": 28,
   "id": "ebdfb7ec",
   "metadata": {},
   "outputs": [
    {
     "name": "stdout",
     "output_type": "stream",
     "text": [
      "23\n"
     ]
    }
   ],
   "source": [
    "#Declare an integer variable age and assign your age.\n",
    "age=23\n",
    "print(age);"
   ]
  },
  {
   "cell_type": "code",
   "execution_count": 29,
   "id": "afb04c8a",
   "metadata": {},
   "outputs": [
    {
     "name": "stdout",
     "output_type": "stream",
     "text": [
      "3.14159\n"
     ]
    }
   ],
   "source": [
    "#Create a float variable pi with value 3.14159.\n",
    "defpi=3.14159\n",
    "print(defpi) "
   ]
  },
  {
   "cell_type": "code",
   "execution_count": 30,
   "id": "cc187f33",
   "metadata": {},
   "outputs": [
    {
     "name": "stdout",
     "output_type": "stream",
     "text": [
      "Sahil Sanjana Bhosale\n"
     ]
    }
   ],
   "source": [
    "#Store your name in a string variable name.\n",
    "Myname=\"Sahil Sanjana Bhosale\"\n",
    "print(Myname)"
   ]
  },
  {
   "cell_type": "code",
   "execution_count": 31,
   "id": "8b84342b",
   "metadata": {},
   "outputs": [
    {
     "name": "stdout",
     "output_type": "stream",
     "text": [
      "(3+4j)\n"
     ]
    }
   ],
   "source": [
    "#Create a complex number z = 3 + 4j.\n",
    "Z=3+4j\n",
    "print(Z)"
   ]
  },
  {
   "cell_type": "code",
   "execution_count": 32,
   "id": "27a94521",
   "metadata": {},
   "outputs": [
    {
     "name": "stdout",
     "output_type": "stream",
     "text": [
      "<class 'float'>\n"
     ]
    }
   ],
   "source": [
    "#Print the type of variable pi.\n",
    "pi=3.14159\n",
    "print(type(pi))"
   ]
  },
  {
   "cell_type": "code",
   "execution_count": 33,
   "id": "465f1492",
   "metadata": {},
   "outputs": [
    {
     "name": "stdout",
     "output_type": "stream",
     "text": [
      "None\n"
     ]
    }
   ],
   "source": [
    "#ssign None to a variable and print it.\n",
    "name=None\n",
    "print(name)"
   ]
  },
  {
   "cell_type": "code",
   "execution_count": 34,
   "id": "0e583b5b",
   "metadata": {},
   "outputs": [
    {
     "name": "stdout",
     "output_type": "stream",
     "text": [
      "<class 'bool'>\n",
      "<class 'bool'>\n"
     ]
    }
   ],
   "source": [
    "ismarried=True\n",
    "isnotmarred=False\n",
    "print(type(ismarried))\n",
    "print(type(isnotmarred))"
   ]
  },
  {
   "cell_type": "code",
   "execution_count": 46,
   "id": "f0e70164",
   "metadata": {},
   "outputs": [
    {
     "name": "stdout",
     "output_type": "stream",
     "text": [
      "a = 10 b = 5\n"
     ]
    }
   ],
   "source": [
    "#Swap values of two variables without using a third variable\n",
    "a = 5\n",
    "b = 10\n",
    "\n",
    "a = a + b  # a = 15\n",
    "b = a - b  # b = 5\n",
    "a = a - b  # a = 10\n",
    "\n",
    "print(\"a =\", a, \"b =\", b)"
   ]
  },
  {
   "cell_type": "code",
   "execution_count": null,
   "id": "778de975",
   "metadata": {},
   "outputs": [],
   "source": [
    "num1=12"
   ]
  }
 ],
 "metadata": {
  "kernelspec": {
   "display_name": "base",
   "language": "python",
   "name": "python3"
  },
  "language_info": {
   "codemirror_mode": {
    "name": "ipython",
    "version": 3
   },
   "file_extension": ".py",
   "mimetype": "text/x-python",
   "name": "python",
   "nbconvert_exporter": "python",
   "pygments_lexer": "ipython3",
   "version": "3.12.7"
  }
 },
 "nbformat": 4,
 "nbformat_minor": 5
}
