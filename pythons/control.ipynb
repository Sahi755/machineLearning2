{
 "cells": [
  {
   "cell_type": "code",
   "execution_count": 4,
   "id": "5b0bc742",
   "metadata": {},
   "outputs": [
    {
     "name": "stdout",
     "output_type": "stream",
     "text": [
      "Zero\n"
     ]
    }
   ],
   "source": [
    "num1=0\n",
    "\n",
    "if num1==0:\n",
    "     print(\"Zero\")     \n",
    "elif(num1>0):\n",
    "     print(\"positive\")\n",
    "else:\n",
    "     print(\"negative\")"
   ]
  },
  {
   "cell_type": "code",
   "execution_count": 5,
   "id": "5d1cf04c",
   "metadata": {},
   "outputs": [
    {
     "name": "stdout",
     "output_type": "stream",
     "text": [
      "odd\n"
     ]
    }
   ],
   "source": [
    "#Check if a number is even or odd.\n",
    "num=3\n",
    "if num%2==0:\n",
    "     print(\"even\")\n",
    "else:\n",
    "     print(\"odd\")"
   ]
  },
  {
   "cell_type": "code",
   "execution_count": 7,
   "id": "d0c7899b",
   "metadata": {},
   "outputs": [
    {
     "name": "stdout",
     "output_type": "stream",
     "text": [
      "Adult\n"
     ]
    }
   ],
   "source": [
    "age=21\n",
    "\n",
    "if(age>=21):\n",
    "    print(\"Adult\")\n",
    "else:\n",
    "    print(\"Minor\")"
   ]
  },
  {
   "cell_type": "code",
   "execution_count": 16,
   "id": "11c0c4ec",
   "metadata": {},
   "outputs": [
    {
     "name": "stdout",
     "output_type": "stream",
     "text": [
      "VOWEL\n"
     ]
    }
   ],
   "source": [
    "#Check if a character is a vowel or consonant\n",
    "vowel=['a','i','e','o','u','A','I','U','E','O',]\n",
    "ch='A'\n",
    "if(ch in vowel):\n",
    "    print(\"VOWEL\")\n",
    "else:\n",
    "    print(\"Conosont\")"
   ]
  },
  {
   "cell_type": "code",
   "execution_count": 17,
   "id": "045748a7",
   "metadata": {},
   "outputs": [
    {
     "name": "stdout",
     "output_type": "stream",
     "text": [
      "24\n"
     ]
    }
   ],
   "source": [
    "#Print the largest of two numbers.\n",
    "num1=23\n",
    "num2=24\n",
    "if num1>num2:\n",
    "   print(num1)\n",
    "else:\n",
    "   print(num2)"
   ]
  },
  {
   "cell_type": "code",
   "execution_count": 18,
   "id": "aa8ae266",
   "metadata": {},
   "outputs": [
    {
     "name": "stdout",
     "output_type": "stream",
     "text": [
      "pass\n"
     ]
    }
   ],
   "source": [
    "#Print \"Pass\" if marks ≥ 40, else \"Fail\".\n",
    "marks=40\n",
    "if marks>=40:\n",
    "   print(\"pass\")\n",
    "else:\n",
    "   print(\"Fails\")\n"
   ]
  },
  {
   "cell_type": "code",
   "execution_count": 26,
   "id": "65905e3a",
   "metadata": {},
   "outputs": [
    {
     "name": "stdout",
     "output_type": "stream",
     "text": [
      "its not multiple\n"
     ]
    }
   ],
   "source": [
    "#Check if a number is multiple of 3 and 7.\n",
    "num=4\n",
    "if(num%3==0 and num%7==0):\n",
    "    print(\"its multiple\")\n",
    "else:\n",
    "    print(\"its not multiple\")\n"
   ]
  },
  {
   "cell_type": "code",
   "execution_count": 33,
   "id": "b91c0cf0",
   "metadata": {},
   "outputs": [
    {
     "name": "stdout",
     "output_type": "stream",
     "text": [
      "empty\n"
     ]
    }
   ],
   "source": [
    "#Check if a string is empty or not.\n",
    "strs=\"\"\n",
    "\n",
    "if strs==\"\":\n",
    "    print(\"empty\")\n",
    "else:\n",
    "    print(\"Not empty\")"
   ]
  },
  {
   "cell_type": "code",
   "execution_count": 59,
   "id": "99809ebb",
   "metadata": {},
   "outputs": [
    {
     "name": "stdout",
     "output_type": "stream",
     "text": [
      "y: 333\n"
     ]
    }
   ],
   "source": [
    "#Find the greatest of three numbers using if-elif-else.\n",
    "num1=45\n",
    "num2=333\n",
    "num3=2\n",
    "\n",
    "if num1>num2 and num2<=num1:\n",
    "     print('x:',num1)\n",
    "elif num2>num1 and num3<num2:\n",
    "     print('y:',num2)\n",
    "elif num3>num1 and num2<num3:\n",
    "     print('z:',num3)"
   ]
  },
  {
   "cell_type": "code",
   "execution_count": 64,
   "id": "d719e771",
   "metadata": {},
   "outputs": [
    {
     "name": "stdout",
     "output_type": "stream",
     "text": [
      "YES\n"
     ]
    }
   ],
   "source": [
    "#Check if a year is a leap year.\n",
    "\n",
    "year=2000\n",
    "\n",
    "if(year%4==0 or (year%400==0 and year% 100 != 0)):\n",
    "    print(\"YES\")\n",
    "else:\n",
    "    print(\"NO\")"
   ]
  },
  {
   "cell_type": "code",
   "execution_count": 77,
   "id": "52ab856a",
   "metadata": {},
   "outputs": [
    {
     "name": "stdout",
     "output_type": "stream",
     "text": [
      "very very little child\n"
     ]
    }
   ],
   "source": [
    "#Print \"Teenager\" if age between 13 and 19.\n",
    "\n",
    "age=7\n",
    "\n",
    "if age>=13 and 19<=age:\n",
    "    print(\"teen ager!\")\n",
    "else:\n",
    "    print(\"very very little child\")"
   ]
  },
  {
   "cell_type": "code",
   "execution_count": null,
   "id": "54484b2c",
   "metadata": {},
   "outputs": [
    {
     "name": "stdout",
     "output_type": "stream",
     "text": [
      "0  \n",
      "1  \n",
      "2  \n",
      "3  \n",
      "4  \n",
      "5  \n",
      "6  \n",
      "7  \n",
      "8  \n",
      "9  \n"
     ]
    }
   ],
   "source": [
    "#Print numbers from 1 to 10 using for loop.\n",
    "\n",
    "for i in range(10):\n",
    "    print(i)"
   ]
  },
  {
   "cell_type": "code",
   "execution_count": 81,
   "id": "c71e2b57",
   "metadata": {},
   "outputs": [
    {
     "name": "stdout",
     "output_type": "stream",
     "text": [
      "[0, 2, 4, 6, 8, 10, 12, 14, 16, 18]\n"
     ]
    }
   ],
   "source": [
    "#Print all even numbers between 1 and 20.\n",
    "\n",
    "listsevn=[]\n",
    "\n",
    "for i in range(20):\n",
    "    if i%2==0:\n",
    "      listsevn.append(i)\n",
    "\n",
    "print(listsevn)"
   ]
  },
  {
   "cell_type": "code",
   "execution_count": 87,
   "id": "3d65e1d5",
   "metadata": {},
   "outputs": [
    {
     "name": "stdout",
     "output_type": "stream",
     "text": [
      "[0, 5, 10, 15, 20, 25, 30, 35, 40, 45, 50]\n"
     ]
    }
   ],
   "source": [
    "#Print the multiplication table of 5.\n",
    "table=[]\n",
    "No=5\n",
    "for i in range(11):\n",
    "    n=i*No\n",
    "    table.append(n)\n",
    "\n",
    "print(table)"
   ]
  },
  {
   "cell_type": "code",
   "execution_count": 88,
   "id": "5ae4d16a",
   "metadata": {},
   "outputs": [
    {
     "name": "stdout",
     "output_type": "stream",
     "text": [
      "[0, 1, 4, 9, 16, 25, 36, 49, 64, 81, 100]\n"
     ]
    }
   ],
   "source": [
    "#Print squares of numbers from 1 to 10.\n",
    "squre=[]\n",
    "\n",
    "for i in range(11):\n",
    "    n=i*i\n",
    "    squre.append(n)\n",
    "\n",
    "print(squre)"
   ]
  },
  {
   "cell_type": "code",
   "execution_count": 92,
   "id": "c4792332",
   "metadata": {},
   "outputs": [
    {
     "name": "stdout",
     "output_type": "stream",
     "text": [
      "p\n",
      "y\n",
      "t\n",
      "h\n",
      "o\n",
      "n\n"
     ]
    }
   ],
   "source": [
    "#Print characters of a string \"Python\".\n",
    "\n",
    "ch=\"python\"\n",
    "\n",
    "for i in range(len(ch)):\n",
    "    print(ch[i])\n"
   ]
  },
  {
   "cell_type": "code",
   "execution_count": 95,
   "id": "61aae2b8",
   "metadata": {},
   "outputs": [
    {
     "name": "stdout",
     "output_type": "stream",
     "text": [
      "sum: 1225\n"
     ]
    }
   ],
   "source": [
    "sum=0\n",
    "for i in range(50):\n",
    "   sum+=i\n",
    "\n",
    "print(\"sum:\",sum)"
   ]
  },
  {
   "cell_type": "code",
   "execution_count": 113,
   "id": "d2ac5cdc",
   "metadata": {},
   "outputs": [
    {
     "name": "stdout",
     "output_type": "stream",
     "text": [
      "3628800\n"
     ]
    }
   ],
   "source": [
    "#Print factorial of a number using for loop.\n",
    "\n",
    "fact=1\n",
    "num=10\n",
    "while(num>0):\n",
    "     \n",
    "     fact=fact*num\n",
    "     num-=1\n",
    "\n",
    "print(fact)"
   ]
  },
  {
   "cell_type": "code",
   "execution_count": 114,
   "id": "0437834d",
   "metadata": {},
   "outputs": [
    {
     "name": "stdout",
     "output_type": "stream",
     "text": [
      "shruti\n",
      "siddhi\n",
      "kiran\n",
      "simran\n"
     ]
    }
   ],
   "source": [
    "#Print all elements of a list.\n",
    "\n",
    "myloves=[\"shruti\",\"siddhi\",\"kiran\",\"simran\"]\n",
    "\n",
    "for i in range(len(myloves)):\n",
    "    print(myloves[i])"
   ]
  },
  {
   "cell_type": "code",
   "execution_count": 121,
   "id": "77a804f4",
   "metadata": {},
   "outputs": [
    {
     "name": "stdout",
     "output_type": "stream",
     "text": [
      "6\n"
     ]
    }
   ],
   "source": [
    "#Count number of vowels in a string.\n",
    "\n",
    "strs=\"string I love you\"\n",
    "vowel=['a','i','e','o','u','A','I','U','E','O',]\n",
    "count=0\n",
    "for i in range(len(strs)):\n",
    "    if strs[i] in vowel:\n",
    "       count+=1\n",
    "       \n",
    "print(count)\n"
   ]
  },
  {
   "cell_type": "code",
   "execution_count": 131,
   "id": "e28dae5f",
   "metadata": {},
   "outputs": [
    {
     "name": "stdout",
     "output_type": "stream",
     "text": [
      "10\n",
      "9\n",
      "8\n",
      "7\n",
      "6\n",
      "5\n",
      "4\n",
      "3\n",
      "2\n",
      "1\n"
     ]
    }
   ],
   "source": [
    "#Print numbers from 10 down to 1.\n",
    "n=11\n",
    "for i in range(10):\n",
    "    if n>=1:\n",
    "      n-=1\n",
    "      print(n)\n"
   ]
  },
  {
   "cell_type": "code",
   "execution_count": 133,
   "id": "23a60d91",
   "metadata": {},
   "outputs": [
    {
     "name": "stdout",
     "output_type": "stream",
     "text": [
      "1\n",
      "2\n",
      "3\n",
      "4\n",
      "5\n",
      "6\n",
      "7\n",
      "8\n",
      "9\n",
      "10\n",
      "11\n"
     ]
    }
   ],
   "source": [
    "#Print numbers from 1 to 10 using while loop.\n",
    "i=0\n",
    "\n",
    "while(i<=10):\n",
    "    i+=1\n",
    "    print(i)"
   ]
  },
  {
   "cell_type": "code",
   "execution_count": 153,
   "id": "1b7dd9ff",
   "metadata": {},
   "outputs": [
    {
     "name": "stdout",
     "output_type": "stream",
     "text": [
      "1\n",
      "3\n",
      "5\n",
      "7\n",
      "9\n",
      "11\n",
      "13\n",
      "15\n",
      "17\n",
      "19\n",
      "21\n"
     ]
    }
   ],
   "source": [
    "#Print all odd numbers below 21.\n",
    "i=0\n",
    "while(i<=20):\n",
    "     i+=1\n",
    "     if i%2==1:\n",
    "        print(i)\n"
   ]
  },
  {
   "cell_type": "code",
   "execution_count": 185,
   "id": "6da13048",
   "metadata": {},
   "outputs": [
    {
     "name": "stdout",
     "output_type": "stream",
     "text": [
      "421\n"
     ]
    }
   ],
   "source": [
    "#Print reverse of a number using while loop.\n",
    "\n",
    "num=124\n",
    "rev=0\n",
    "while num>0:\n",
    "    nums=num%10\n",
    "    rev= rev * 10 + nums\n",
    "    num=num//10\n",
    "\n",
    "print(rev)"
   ]
  },
  {
   "cell_type": "code",
   "execution_count": null,
   "id": "33af7ba7",
   "metadata": {},
   "outputs": [
    {
     "name": "stdout",
     "output_type": "stream",
     "text": [
      "3\n"
     ]
    }
   ],
   "source": [
    "#Find sum of digits of a number.\n",
    "\n",
    "sum=0\n",
    "num=12\n",
    "while(num>0):\n",
    "    digit=num%10\n",
    "    sum+=digit\n",
    "    num//=10\n",
    "\n",
    "print(sum)\n"
   ]
  },
  {
   "cell_type": "code",
   "execution_count": null,
   "id": "90a090e2",
   "metadata": {},
   "outputs": [],
   "source": [
    "#Print Fibonacci series up to n terms.\n",
    "\n"
   ]
  }
 ],
 "metadata": {
  "kernelspec": {
   "display_name": "Python 3",
   "language": "python",
   "name": "python3"
  },
  "language_info": {
   "codemirror_mode": {
    "name": "ipython",
    "version": 3
   },
   "file_extension": ".py",
   "mimetype": "text/x-python",
   "name": "python",
   "nbconvert_exporter": "python",
   "pygments_lexer": "ipython3",
   "version": "3.12.2"
  }
 },
 "nbformat": 4,
 "nbformat_minor": 5
}
