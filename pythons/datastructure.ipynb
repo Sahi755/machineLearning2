{
 "cells": [
  {
   "cell_type": "code",
   "execution_count": 2,
   "id": "cdb410da",
   "metadata": {},
   "outputs": [
    {
     "name": "stdout",
     "output_type": "stream",
     "text": [
      "[1, 2, 3, 4, 5, 6]\n"
     ]
    }
   ],
   "source": [
    "#Create a list of first 5 natural numbers.\n",
    "natural_No=[]\n",
    "i=0\n",
    "while(i<=5):\n",
    "   i+=1\n",
    "   natural_No.append(i)\n",
    "\n",
    "print(natural_No)"
   ]
  },
  {
   "cell_type": "code",
   "execution_count": null,
   "id": "b2f12ae5",
   "metadata": {},
   "outputs": [
    {
     "name": "stdout",
     "output_type": "stream",
     "text": [
      "['apple', 'mango', 'greps', 'gova', 'strawberry']\n"
     ]
    }
   ],
   "source": [
    "#Create a list containing names of 5 fruits.\n",
    "list_fruit=['apple','mango','greps','gova','strawberry']\n",
    "print(list_fruit) "
   ]
  },
  {
   "cell_type": "code",
   "execution_count": 6,
   "id": "00497331",
   "metadata": {},
   "outputs": [
    {
     "name": "stdout",
     "output_type": "stream",
     "text": [
      "apple\n"
     ]
    }
   ],
   "source": [
    "#Access the first element of a list.\n",
    "list_fruit=['apple','mango','greps','gova','strawberry']\n",
    "print(list_fruit[0])\n"
   ]
  },
  {
   "cell_type": "code",
   "execution_count": 8,
   "id": "9044b32f",
   "metadata": {},
   "outputs": [
    {
     "name": "stdout",
     "output_type": "stream",
     "text": [
      "strawberry\n"
     ]
    }
   ],
   "source": [
    "#Access the last element of a list.\n",
    "list_fruit=['apple','mango','greps','gova','strawberry']\n",
    "print(list_fruit[len(list_fruit)-1])"
   ]
  },
  {
   "cell_type": "code",
   "execution_count": 10,
   "id": "14094fdd",
   "metadata": {},
   "outputs": [
    {
     "name": "stdout",
     "output_type": "stream",
     "text": [
      "['apple', 'mango', 'greps']\n"
     ]
    }
   ],
   "source": [
    "#Slice a list to get first three elements.\n",
    "list_fruit=['apple','mango','greps','gova','strawberry']\n",
    "print(list_fruit[0:3])"
   ]
  },
  {
   "cell_type": "code",
   "execution_count": 21,
   "id": "832241ee",
   "metadata": {},
   "outputs": [
    {
     "name": "stdout",
     "output_type": "stream",
     "text": [
      "0:1\n",
      "2:3\n",
      "4:5\n",
      "6:7\n",
      "8:9\n"
     ]
    }
   ],
   "source": [
    "#Create a list of 10 numbers and print elements at even indexes.\n",
    "even_index=[1,2,3,4,5,6,7,8,9,10]\n",
    "for i in range(0,len(even_index),2):\n",
    "       print(f\"{i}:{even_index[i]}\")"
   ]
  },
  {
   "cell_type": "code",
   "execution_count": 22,
   "id": "c8d87e4f",
   "metadata": {},
   "outputs": [
    {
     "name": "stdout",
     "output_type": "stream",
     "text": [
      "10\n"
     ]
    }
   ],
   "source": [
    "#Print the length of a list.\n",
    "even_index=[1,2,3,4,5,6,7,8,9,10]\n",
    "print(len(even_index))"
   ]
  },
  {
   "cell_type": "code",
   "execution_count": 23,
   "id": "e994065e",
   "metadata": {},
   "outputs": [
    {
     "name": "stdout",
     "output_type": "stream",
     "text": [
      "[1, 3, 5, 7, 2, 4, 6, 8]\n"
     ]
    }
   ],
   "source": [
    "#Concatenate two lists.\n",
    "even_index=[1,3,5,7]\n",
    "odd_index=[2,4,6,8]\n",
    "even_index+=odd_index\n",
    "print(even_index)\n"
   ]
  },
  {
   "cell_type": "code",
   "execution_count": 24,
   "id": "1d43599b",
   "metadata": {},
   "outputs": [
    {
     "name": "stdout",
     "output_type": "stream",
     "text": [
      "[1, 3, 5, 7, 1, 3, 5, 7, 1, 3, 5, 7]\n"
     ]
    }
   ],
   "source": [
    "#Repeat a list 3 times using *.\n",
    "even_index=[1,3,5,7]\n",
    "print(even_index*3)"
   ]
  },
  {
   "cell_type": "code",
   "execution_count": 27,
   "id": "f30ccd91",
   "metadata": {},
   "outputs": [
    {
     "name": "stdout",
     "output_type": "stream",
     "text": [
      "exist\n"
     ]
    }
   ],
   "source": [
    "#Check if 5 exists in [1,2,3,4,5].\n",
    "n=[1,2,3,4,5]\n",
    " \n",
    "if(5 in n):\n",
    "    print(\"exist\")\n",
    "else:\n",
    "     print(\"not exist\")"
   ]
  },
  {
   "cell_type": "code",
   "execution_count": 32,
   "id": "c0d187ed",
   "metadata": {},
   "outputs": [
    {
     "name": "stdout",
     "output_type": "stream",
     "text": [
      "[1, 2, 34, 4, 5]\n"
     ]
    }
   ],
   "source": [
    "#Replace the third element of a list with a new value.\n",
    "n=[1,2,3,4,5]\n",
    "n[2]=34\n",
    "print(n)"
   ]
  },
  {
   "cell_type": "code",
   "execution_count": null,
   "id": "76decb70",
   "metadata": {},
   "outputs": [
    {
     "name": "stdout",
     "output_type": "stream",
     "text": [
      "[1, 3, 4, 5]\n"
     ]
    }
   ],
   "source": [
    "#Delete an element from a list using del.\n",
    "n=[1,2,3,4,5]\n",
    "del n[1]\n",
    "print(n)"
   ]
  },
  {
   "cell_type": "code",
   "execution_count": null,
   "id": "52b33062",
   "metadata": {},
   "outputs": [
    {
     "name": "stdout",
     "output_type": "stream",
     "text": [
      "sum of list [1, 2, 3, 4, 5] is 15\n"
     ]
    }
   ],
   "source": [
    "#Print sum of all numbers in a list.\n",
    "n=[1,2,3,4,5]\n",
    "sum=0\n",
    "for i in range(len(n)):\n",
    "    sum+=n[i]\n",
    "\n",
    "print(f\"sum of list {n} is {sum}\")\n"
   ]
  },
  {
   "cell_type": "code",
   "execution_count": 37,
   "id": "435176b4",
   "metadata": {},
   "outputs": [
    {
     "name": "stdout",
     "output_type": "stream",
     "text": [
      "max of [1, 2, 355, 4, 5] is 355\n"
     ]
    }
   ],
   "source": [
    "n=[1,2,355,4,5]\n",
    "max=n[0]\n",
    "\n",
    "for i in range(len(n)):\n",
    "    if(n[i]>max):\n",
    "       max=n[i]\n",
    "\n",
    "print(f\"max of {n} is {max}\")"
   ]
  },
  {
   "cell_type": "code",
   "execution_count": 38,
   "id": "b0f4ed96",
   "metadata": {},
   "outputs": [
    {
     "name": "stdout",
     "output_type": "stream",
     "text": [
      "max of [1, 2, 355, 4, 5] is 1\n"
     ]
    }
   ],
   "source": [
    "#Find minimum element in a list.\n",
    "n=[1,2,355,4,5]\n",
    "min=n[0]\n",
    "\n",
    "for i in range(len(n)):\n",
    "    if(n[i]<min):\n",
    "       min=n[i]\n",
    "       \n",
    "print(f\"max of {n} is {min}\")\n"
   ]
  },
  {
   "cell_type": "code",
   "execution_count": 43,
   "id": "b7afd14c",
   "metadata": {},
   "outputs": [
    {
     "name": "stdout",
     "output_type": "stream",
     "text": [
      "[5, 4, 355, 2, 1]\n"
     ]
    }
   ],
   "source": [
    "#Reverse a list using slicing.\n",
    "n=[1,2,355,4,5]\n",
    "print(n[::-1])"
   ]
  },
  {
   "cell_type": "code",
   "execution_count": 45,
   "id": "eefb22b6",
   "metadata": {},
   "outputs": [
    {
     "name": "stdout",
     "output_type": "stream",
     "text": [
      "['p', 'y', 't', 'h', 'o', 'n']\n"
     ]
    }
   ],
   "source": [
    "#Convert string \"Python\" into a list of characters.\n",
    "stri=\"python\"\n",
    "list_py=[]\n",
    "for i in range(len(stri)):\n",
    "     ch=stri[i]\n",
    "     list_py.append(ch)\n",
    "\n",
    "print(list_py)"
   ]
  },
  {
   "cell_type": "code",
   "execution_count": 7,
   "id": "93e969ec",
   "metadata": {},
   "outputs": [],
   "source": [
    "#Count occurrences of an element in a list.\n",
    "list_py=['p', 'y', 't', 'h', 'o', 'n']\n",
    "\n",
    "\n"
   ]
  },
  {
   "cell_type": "code",
   "execution_count": 10,
   "id": "679d827c",
   "metadata": {},
   "outputs": [
    {
     "name": "stdout",
     "output_type": "stream",
     "text": [
      "[0, 1, 2, 3, 4, 5, 6, 7, 8, 9, 10, 11, 12, 13, 14, 15, 16, 17, 18, 19]\n"
     ]
    }
   ],
   "source": [
    "#Append an element to a list.\n",
    "list_py=[]\n",
    "\n",
    "for i in range(20):\n",
    "     list_py.append(i)\n",
    "\n",
    "print(list_py)\n"
   ]
  },
  {
   "cell_type": "code",
   "execution_count": null,
   "id": "255641bd",
   "metadata": {},
   "outputs": [
    {
     "name": "stdout",
     "output_type": "stream",
     "text": [
      "[0, 1, 13, 2, 3, 4, 5, 6, 7, 8, 9, 10]\n"
     ]
    }
   ],
   "source": [
    "#Insert an element at index 2.\n",
    "list_num=[0, 1, 2, 3, 4, 5, 6, 7, 8, 9, 10]\n",
    "list_num.insert(2,13)\n",
    "\n",
    "print(list_num)"
   ]
  },
  {
   "cell_type": "code",
   "execution_count": 14,
   "id": "cf22f396",
   "metadata": {},
   "outputs": [
    {
     "name": "stdout",
     "output_type": "stream",
     "text": [
      "[0, 1, 2, 3, 4, 5, 6, 7, 8, 9, 10, 12, 13, 45, 56]\n"
     ]
    }
   ],
   "source": [
    "#Extend a list with another list.\n",
    "list_num=[0, 1, 2, 3, 4, 5, 6, 7, 8, 9, 10]\n",
    "list_num2=[ 12,13,45,56]\n",
    "list_num.extend(list_num2)\n",
    "print(list_num)"
   ]
  },
  {
   "cell_type": "code",
   "execution_count": 16,
   "id": "23971ad5",
   "metadata": {},
   "outputs": [
    {
     "name": "stdout",
     "output_type": "stream",
     "text": [
      "[0, 1, 2, 3, 4, 5, 6, 7, 8, 9]\n"
     ]
    }
   ],
   "source": [
    "#Remove an element from a list.\n",
    "list_num=[0, 1, 2, 3, 4, 5, 6, 7, 8, 9, 10]\n",
    "list_num.remove(10)\n",
    "print(list_num)"
   ]
  },
  {
   "cell_type": "code",
   "execution_count": 17,
   "id": "23ff5533",
   "metadata": {},
   "outputs": [
    {
     "name": "stdout",
     "output_type": "stream",
     "text": [
      "[0, 1, 2, 3, 4, 5, 6, 7, 8, 9]\n"
     ]
    }
   ],
   "source": [
    "#Pop last element from a list\n",
    "list_num=[0, 1, 2, 3, 4, 5, 6, 7, 8, 9, 10]\n",
    "list_num.pop()\n",
    "print(list_num)"
   ]
  },
  {
   "cell_type": "code",
   "execution_count": 18,
   "id": "bd632264",
   "metadata": {},
   "outputs": [
    {
     "name": "stdout",
     "output_type": "stream",
     "text": [
      "[0, 1, 2, 4, 5, 6, 7, 8, 9, 10]\n"
     ]
    }
   ],
   "source": [
    "#Pop element at index 3.\n",
    "list_num=[0, 1, 2, 3, 4, 5, 6, 7, 8, 9, 10]\n",
    "list_num.pop(3)\n",
    "print(list_num)"
   ]
  },
  {
   "cell_type": "code",
   "execution_count": 19,
   "id": "42441a3a",
   "metadata": {},
   "outputs": [
    {
     "name": "stdout",
     "output_type": "stream",
     "text": [
      "[5, 7, 8, 9, 10]\n"
     ]
    }
   ],
   "source": [
    "#Sort a list in ascending order.\n",
    "list_num=[10,9,8,7,5]\n",
    "list_num.sort()\n",
    "print(list_num)\n"
   ]
  },
  {
   "cell_type": "code",
   "execution_count": 25,
   "id": "c04b2848",
   "metadata": {},
   "outputs": [
    {
     "name": "stdout",
     "output_type": "stream",
     "text": [
      "[5, 4, 3, 2, 1]\n"
     ]
    }
   ],
   "source": [
    "#Sort a list in descending order.\n",
    "list_num=[1,2,3,4,5]\n",
    "list_num.sort(reverse=True)\n",
    "print(list_num)"
   ]
  },
  {
   "cell_type": "code",
   "execution_count": 26,
   "id": "f0b0652b",
   "metadata": {},
   "outputs": [
    {
     "name": "stdout",
     "output_type": "stream",
     "text": [
      "[5, 4, 3, 2, 1]\n"
     ]
    }
   ],
   "source": [
    "#Reverse a list using method.\n",
    "list_num=[1,2,3,4,5]\n",
    "list_num.reverse()\n",
    "print(list_num)"
   ]
  },
  {
   "cell_type": "code",
   "execution_count": null,
   "id": "aace3de9",
   "metadata": {},
   "outputs": [
    {
     "name": "stdout",
     "output_type": "stream",
     "text": [
      "[1, 2, 3, 4, 5]\n"
     ]
    }
   ],
   "source": [
    "#Copy a list using .copy().\n",
    "list_num=[1,2,3,4,5]\n",
    "list_num2=[]\n",
    "list_num2=list_num.copy()\n",
    "print(list_num2)\n",
    "\n"
   ]
  },
  {
   "cell_type": "code",
   "execution_count": null,
   "id": "c6ef7490",
   "metadata": {},
   "outputs": [
    {
     "name": "stdout",
     "output_type": "stream",
     "text": [
      "4\n"
     ]
    }
   ],
   "source": [
    "#Find index of first occurrence of 10 in list.\n",
    "list_num=[1,2,10,4,5,10,10,5]\n",
    "index=0\n",
    "\n",
    "for i in range(len(list_num)):\n",
    "    if(list_num[i]==10):\n",
    "        index=i\n",
    "        break\n",
    "\n",
    "print(index)"
   ]
  },
  {
   "cell_type": "code",
   "execution_count": 37,
   "id": "6e2fa9be",
   "metadata": {},
   "outputs": [
    {
     "name": "stdout",
     "output_type": "stream",
     "text": [
      "2\n"
     ]
    }
   ],
   "source": [
    "#Count how many times \"apple\" appears in a list.\n",
    "list_fruit=[\"mango\",\"apple\",\"chiku\",\"apple\"]\n",
    "count=0\n",
    "\n",
    "for i in range(len(list_fruit)):\n",
    "     if(list_fruit[i]==\"apple\"):\n",
    "          count+=1\n",
    "\n",
    "print(count)\n"
   ]
  },
  {
   "cell_type": "code",
   "execution_count": 39,
   "id": "3455f6ca",
   "metadata": {},
   "outputs": [
    {
     "name": "stdout",
     "output_type": "stream",
     "text": [
      "[4, 6, 8]\n"
     ]
    }
   ],
   "source": [
    "#Multiply all elements of list [2,3,4].\n",
    "mul=[2,3,4]\n",
    "for i in range(len(mul)):\n",
    "     mul[i]*=2\n",
    "\n",
    "\n",
    "print(mul)\n",
    "    "
   ]
  },
  {
   "cell_type": "code",
   "execution_count": 41,
   "id": "d6183246",
   "metadata": {},
   "outputs": [
    {
     "name": "stdout",
     "output_type": "stream",
     "text": [
      "[1, 2, 3]\n"
     ]
    }
   ],
   "source": [
    "#Convert a tuple (1,2,3) into a list.\n",
    "tup=(1,2,3)\n",
    "list_of=tup\n",
    "print(list(list_of))"
   ]
  },
  {
   "cell_type": "code",
   "execution_count": null,
   "id": "b13898b1",
   "metadata": {},
   "outputs": [],
   "source": []
  }
 ],
 "metadata": {
  "kernelspec": {
   "display_name": "base",
   "language": "python",
   "name": "python3"
  },
  "language_info": {
   "codemirror_mode": {
    "name": "ipython",
    "version": 3
   },
   "file_extension": ".py",
   "mimetype": "text/x-python",
   "name": "python",
   "nbconvert_exporter": "python",
   "pygments_lexer": "ipython3",
   "version": "3.12.7"
  }
 },
 "nbformat": 4,
 "nbformat_minor": 5
}
