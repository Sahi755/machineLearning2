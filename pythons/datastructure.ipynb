{
 "cells": [
  {
   "cell_type": "code",
   "execution_count": 2,
   "id": "cdb410da",
   "metadata": {},
   "outputs": [
    {
     "name": "stdout",
     "output_type": "stream",
     "text": [
      "[1, 2, 3, 4, 5, 6]\n"
     ]
    }
   ],
   "source": [
    "#Create a list of first 5 natural numbers.\n",
    "natural_No=[]\n",
    "i=0\n",
    "while(i<=5):\n",
    "   i+=1\n",
    "   natural_No.append(i)\n",
    "\n",
    "print(natural_No)"
   ]
  },
  {
   "cell_type": "code",
   "execution_count": null,
   "id": "b2f12ae5",
   "metadata": {},
   "outputs": [
    {
     "name": "stdout",
     "output_type": "stream",
     "text": [
      "['apple', 'mango', 'greps', 'gova', 'strawberry']\n"
     ]
    }
   ],
   "source": [
    "#Create a list containing names of 5 fruits.\n",
    "list_fruit=['apple','mango','greps','gova','strawberry']\n",
    "print(list_fruit) "
   ]
  },
  {
   "cell_type": "code",
   "execution_count": null,
   "id": "00497331",
   "metadata": {},
   "outputs": [],
   "source": [
    "#Access the first element of a list.\n"
   ]
  }
 ],
 "metadata": {
  "kernelspec": {
   "display_name": "base",
   "language": "python",
   "name": "python3"
  },
  "language_info": {
   "codemirror_mode": {
    "name": "ipython",
    "version": 3
   },
   "file_extension": ".py",
   "mimetype": "text/x-python",
   "name": "python",
   "nbconvert_exporter": "python",
   "pygments_lexer": "ipython3",
   "version": "3.12.7"
  }
 },
 "nbformat": 4,
 "nbformat_minor": 5
}
