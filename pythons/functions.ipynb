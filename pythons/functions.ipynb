{
 "cells": [
  {
   "cell_type": "code",
   "execution_count": 2,
   "id": "2d1ca21b",
   "metadata": {},
   "outputs": [
    {
     "name": "stdout",
     "output_type": "stream",
     "text": [
      "*************************function*************************\n"
     ]
    }
   ],
   "source": [
    "print(\"*************************function*************************\")"
   ]
  },
  {
   "cell_type": "code",
   "execution_count": 3,
   "id": "16b5b0f0",
   "metadata": {},
   "outputs": [
    {
     "name": "stdout",
     "output_type": "stream",
     "text": [
      "Hello World!\n"
     ]
    }
   ],
   "source": [
    "#Write a function that prints \"Hello World\".\n",
    "def prints():\n",
    "    print(\"Hello World!\")\n",
    "\n",
    "prints()"
   ]
  },
  {
   "cell_type": "code",
   "execution_count": 5,
   "id": "d65afb9f",
   "metadata": {},
   "outputs": [
    {
     "name": "stdout",
     "output_type": "stream",
     "text": [
      "sum:3\n"
     ]
    }
   ],
   "source": [
    "#Define a function to add two numbers and call it.\n",
    "\n",
    "def sums(num1,num2):\n",
    "    return num1+num2\n",
    "\n",
    "print(f\"sum:{sums(1,2)}\")"
   ]
  },
  {
   "cell_type": "code",
   "execution_count": null,
   "id": "29725f8e",
   "metadata": {},
   "outputs": [
    {
     "name": "stdout",
     "output_type": "stream",
     "text": [
      "9\n"
     ]
    }
   ],
   "source": [
    "#Define a function that takes a string and prints its length.\n",
    "def lencount(var):\n",
    "   count=0\n",
    "   for char in var:\n",
    "       count+=1\n",
    "   return count\n",
    "\n",
    "\n",
    "print(lencount(\"sahil\"))"
   ]
  },
  {
   "cell_type": "code",
   "execution_count": 46,
   "id": "a4c2acdc",
   "metadata": {},
   "outputs": [
    {
     "name": "stdout",
     "output_type": "stream",
     "text": [
      "odd\n"
     ]
    }
   ],
   "source": [
    "#Write a function to check if a number is even.\n",
    "def isEven(num):\n",
    "    return num&1\n",
    "\n",
    "if(isEven(123)==1):\n",
    "    print(\"odd\")\n",
    "else:\n",
    "    print(\"even\")"
   ]
  },
  {
   "cell_type": "code",
   "execution_count": 50,
   "id": "194e3420",
   "metadata": {},
   "outputs": [
    {
     "name": "stdout",
     "output_type": "stream",
     "text": [
      "9\n",
      "81\n",
      "729\n",
      "531441\n",
      "282429536481\n"
     ]
    }
   ],
   "source": [
    "#Create a function that prints square of a number.\n",
    "def sqrt(num):\n",
    "    return num*num\n",
    "\n",
    "print(sqrt(3))\n",
    "print(sqrt(9))\n",
    "print(sqrt(27))\n",
    "print(sqrt(729))\n",
    "print(sqrt(531441))"
   ]
  },
  {
   "cell_type": "code",
   "execution_count": 52,
   "id": "775edacb",
   "metadata": {},
   "outputs": [
    {
     "name": "stdout",
     "output_type": "stream",
     "text": [
      "114.8\n"
     ]
    }
   ],
   "source": [
    "#Write a function that converts Celsius to Fahrenheit.\n",
    "def Fahrenheit(c):\n",
    "    return (c*9/5)+32\n",
    "\n",
    "print(Fahrenheit(46))"
   ]
  },
  {
   "cell_type": "code",
   "execution_count": null,
   "id": "4e77fc2a",
   "metadata": {},
   "outputs": [
    {
     "name": "stdout",
     "output_type": "stream",
     "text": [
      "4\n",
      "3\n",
      "2\n",
      "1\n",
      "0\n",
      "-1\n",
      "None\n"
     ]
    }
   ],
   "source": [
    "#Write a function that prints first n natural numbers.\n",
    "\n",
    "def natural(n):\n",
    "    if n<0:\n",
    "      return -1\n",
    "    print(n)\n",
    "    natural(n-1)\n",
    "\n",
    "print(natural(5))\n",
    "\n"
   ]
  }
 ],
 "metadata": {
  "kernelspec": {
   "display_name": "base",
   "language": "python",
   "name": "python3"
  },
  "language_info": {
   "codemirror_mode": {
    "name": "ipython",
    "version": 3
   },
   "file_extension": ".py",
   "mimetype": "text/x-python",
   "name": "python",
   "nbconvert_exporter": "python",
   "pygments_lexer": "ipython3",
   "version": "3.12.7"
  }
 },
 "nbformat": 4,
 "nbformat_minor": 5
}
