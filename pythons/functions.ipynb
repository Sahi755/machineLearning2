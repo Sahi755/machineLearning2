{
 "cells": [
  {
   "cell_type": "code",
   "execution_count": 2,
   "id": "2d1ca21b",
   "metadata": {},
   "outputs": [
    {
     "name": "stdout",
     "output_type": "stream",
     "text": [
      "*************************function*************************\n"
     ]
    }
   ],
   "source": [
    "print(\"*************************function*************************\")"
   ]
  },
  {
   "cell_type": "code",
   "execution_count": 3,
   "id": "16b5b0f0",
   "metadata": {},
   "outputs": [
    {
     "name": "stdout",
     "output_type": "stream",
     "text": [
      "Hello World!\n"
     ]
    }
   ],
   "source": [
    "#Write a function that prints \"Hello World\".\n",
    "def prints():\n",
    "    print(\"Hello World!\")\n",
    "\n",
    "prints()"
   ]
  },
  {
   "cell_type": "code",
   "execution_count": 5,
   "id": "d65afb9f",
   "metadata": {},
   "outputs": [
    {
     "name": "stdout",
     "output_type": "stream",
     "text": [
      "sum:3\n"
     ]
    }
   ],
   "source": [
    "#Define a function to add two numbers and call it.\n",
    "\n",
    "def sums(num1,num2):\n",
    "    return num1+num2\n",
    "\n",
    "print(f\"sum:{sums(1,2)}\")"
   ]
  },
  {
   "cell_type": "code",
   "execution_count": null,
   "id": "29725f8e",
   "metadata": {},
   "outputs": [
    {
     "name": "stdout",
     "output_type": "stream",
     "text": [
      "9\n"
     ]
    }
   ],
   "source": [
    "#Define a function that takes a string and prints its length.\n",
    "def lencount(var):\n",
    "   count=0\n",
    "   for char in var:\n",
    "       count+=1\n",
    "   return count\n",
    "\n",
    "\n",
    "print(lencount(\"sahil\"))"
   ]
  },
  {
   "cell_type": "code",
   "execution_count": 46,
   "id": "a4c2acdc",
   "metadata": {},
   "outputs": [
    {
     "name": "stdout",
     "output_type": "stream",
     "text": [
      "odd\n"
     ]
    }
   ],
   "source": [
    "#Write a function to check if a number is even.\n",
    "def isEven(num):\n",
    "    return num&1\n",
    "\n",
    "if(isEven(123)==1):\n",
    "    print(\"odd\")\n",
    "else:\n",
    "    print(\"even\")"
   ]
  },
  {
   "cell_type": "code",
   "execution_count": 50,
   "id": "194e3420",
   "metadata": {},
   "outputs": [
    {
     "name": "stdout",
     "output_type": "stream",
     "text": [
      "9\n",
      "81\n",
      "729\n",
      "531441\n",
      "282429536481\n"
     ]
    }
   ],
   "source": [
    "#Create a function that prints square of a number.\n",
    "def sqrt(num):\n",
    "    return num*num\n",
    "\n",
    "print(sqrt(3))\n",
    "print(sqrt(9))\n",
    "print(sqrt(27))\n",
    "print(sqrt(729))\n",
    "print(sqrt(531441))"
   ]
  },
  {
   "cell_type": "code",
   "execution_count": 52,
   "id": "775edacb",
   "metadata": {},
   "outputs": [
    {
     "name": "stdout",
     "output_type": "stream",
     "text": [
      "114.8\n"
     ]
    }
   ],
   "source": [
    "#Write a function that converts Celsius to Fahrenheit.\n",
    "def Fahrenheit(c):\n",
    "    return (c*9/5)+32\n",
    "\n",
    "print(Fahrenheit(46))"
   ]
  },
  {
   "cell_type": "code",
   "execution_count": null,
   "id": "4e77fc2a",
   "metadata": {},
   "outputs": [
    {
     "name": "stdout",
     "output_type": "stream",
     "text": [
      "1\n",
      "2\n",
      "3\n",
      "4\n",
      "5\n",
      "6\n",
      "7\n",
      "8\n",
      "9\n",
      "10\n",
      "11\n"
     ]
    }
   ],
   "source": [
    "#Write a function that prints first n natural numbers.\n",
    "\n",
    "def natural(n):\n",
    "    i=0\n",
    "    while(i<=n):\n",
    "       i+=1\n",
    "       print(i)\n",
    "\n",
    "\n",
    "natural(10)\n",
    "\n"
   ]
  },
  {
   "cell_type": "code",
   "execution_count": 68,
   "id": "37d132fa",
   "metadata": {},
   "outputs": [
    {
     "name": "stdout",
     "output_type": "stream",
     "text": [
      "[1, 2, 3, 3, 4, 5]\n"
     ]
    }
   ],
   "source": [
    "#Define a function that takes a list and prints its elements.\n",
    "\n",
    "def list_print(lists):\n",
    "     print(lists)\n",
    "\n",
    "list_print([1,2,3,3,4,5])"
   ]
  },
  {
   "cell_type": "code",
   "execution_count": null,
   "id": "f6c2e903",
   "metadata": {},
   "outputs": [
    {
     "name": "stdout",
     "output_type": "stream",
     "text": [
      "55\n"
     ]
    }
   ],
   "source": [
    "#Write a function that returns sum of first 10 natural numbers.\n",
    "\n",
    "def sumN(n):\n",
    "  sum=0\n",
    "  i=0\n",
    "  while(i<n):\n",
    "     i+=1\n",
    "     sum+=i\n",
    "\n",
    "  return sum\n",
    "    \n",
    "\n",
    "print(sumN(10))"
   ]
  },
  {
   "cell_type": "code",
   "execution_count": 87,
   "id": "cdc85ad9",
   "metadata": {},
   "outputs": [
    {
     "data": {
      "text/plain": [
       "'I can help you!'"
      ]
     },
     "execution_count": 87,
     "metadata": {},
     "output_type": "execute_result"
    }
   ],
   "source": [
    "#Call a function inside another function.\n",
    "def call1():\n",
    "    return \"I can help you!\"\n",
    "\n",
    "def recive():\n",
    "    print(call1())\n",
    "\n",
    "call1()\n",
    "\n"
   ]
  },
  {
   "cell_type": "code",
   "execution_count": 91,
   "id": "75697965",
   "metadata": {},
   "outputs": [
    {
     "name": "stdout",
     "output_type": "stream",
     "text": [
      "7\n"
     ]
    }
   ],
   "source": [
    "#Write a function to subtract two numbers using positional arguments.\n",
    "def sub(num1,num2):\n",
    "    return num1-num2\n",
    "\n",
    "print(sub(9,2))"
   ]
  },
  {
   "cell_type": "code",
   "execution_count": 92,
   "id": "690e73e1",
   "metadata": {},
   "outputs": [
    {
     "name": "stdout",
     "output_type": "stream",
     "text": [
      "16\n"
     ]
    }
   ],
   "source": [
    "#Write a function that calculates area of rectangle given length and width.\n",
    "def reactArea(len,width):\n",
    "    return len*width\n",
    "\n",
    "print(reactArea(4,4))"
   ]
  },
  {
   "cell_type": "code",
   "execution_count": 93,
   "id": "b0fddc86",
   "metadata": {},
   "outputs": [
    {
     "name": "stdout",
     "output_type": "stream",
     "text": [
      "6\n"
     ]
    }
   ],
   "source": [
    "#Write a function that multiplies three numbers.\n",
    "def thrimul(num1,num2,num3):\n",
    "     return num1*num2*num3\n",
    "\n",
    "print(thrimul(1,2,3))"
   ]
  },
  {
   "cell_type": "code",
   "execution_count": 97,
   "id": "653fc041",
   "metadata": {},
   "outputs": [
    {
     "name": "stdout",
     "output_type": "stream",
     "text": [
      "Sahil 24 A\n"
     ]
    }
   ],
   "source": [
    "#Call a function with arguments in correct order.\n",
    "def nameid(name,age,grade):\n",
    "       print(\"name:\",name)\n",
    "       print(\"Age:\",age)\n",
    "       print(\"grade:\",grade)\n",
    "\n",
    "print(\"Sahil\",24,'A')\n"
   ]
  },
  {
   "cell_type": "code",
   "execution_count": null,
   "id": "4e97f8b8",
   "metadata": {},
   "outputs": [
    {
     "name": "stdout",
     "output_type": "stream",
     "text": [
      "200000\n"
     ]
    }
   ],
   "source": [
    "# Write a function with two parameters and call it using keyword arguments\n",
    "\n",
    "def mul(num1,num2):\n",
    "    \n",
    "    return num1*num2\n",
    "\n",
    "result=mul(num1=1000,num2=200)\n",
    "print(result)\n",
    "\n",
    "\n"
   ]
  },
  {
   "cell_type": "code",
   "execution_count": 104,
   "id": "002a2222",
   "metadata": {},
   "outputs": [
    {
     "name": "stdout",
     "output_type": "stream",
     "text": [
      "Name: sahil\n",
      "Age: 21\n"
     ]
    }
   ],
   "source": [
    "#Define a function with parameters name, age and call with name=\"Alex\", age=21.\n",
    "def id(name,age):\n",
    "    print(\"Name:\",name)\n",
    "    print(\"Age:\",age)\n",
    "\n",
    "\n",
    "id(name=\"sahil\",age=21)"
   ]
  },
  {
   "cell_type": "code",
   "execution_count": 105,
   "id": "7a674016",
   "metadata": {},
   "outputs": [
    {
     "name": "stdout",
     "output_type": "stream",
     "text": [
      "216\n"
     ]
    }
   ],
   "source": [
    "#Write a function to calculate volume of cuboid using keyword args.\n",
    "def cube(l,w,h):\n",
    "    return l*w*h\n",
    "\n",
    "print(cube(6,6,6))"
   ]
  },
  {
   "cell_type": "code",
   "execution_count": 106,
   "id": "1b369144",
   "metadata": {},
   "outputs": [
    {
     "name": "stdout",
     "output_type": "stream",
     "text": [
      "sahil 21 A EXTC\n"
     ]
    }
   ],
   "source": [
    "#Mix positional and keyword arguments in a function call.\n",
    "def id2(name,age,grade,classstd):\n",
    "    print(\"name:\",name)\n",
    "    print(\"age:\",age)\n",
    "    print(\"grade:\",grade)\n",
    "    print(\"classes:\",classstd)\n",
    "\n",
    "\n",
    "print(\"sahil\",21,'A',\"EXTC\")"
   ]
  }
 ],
 "metadata": {
  "kernelspec": {
   "display_name": "base",
   "language": "python",
   "name": "python3"
  },
  "language_info": {
   "codemirror_mode": {
    "name": "ipython",
    "version": 3
   },
   "file_extension": ".py",
   "mimetype": "text/x-python",
   "name": "python",
   "nbconvert_exporter": "python",
   "pygments_lexer": "ipython3",
   "version": "3.12.7"
  }
 },
 "nbformat": 4,
 "nbformat_minor": 5
}
