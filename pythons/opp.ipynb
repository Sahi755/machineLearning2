{
 "cells": [
  {
   "cell_type": "code",
   "execution_count": 23,
   "id": "44893481",
   "metadata": {},
   "outputs": [
    {
     "name": "stdout",
     "output_type": "stream",
     "text": [
      "BRAND: BMW\n",
      "MODEL: BM07\n"
     ]
    }
   ],
   "source": [
    "#Create a class Car with attributes brand and model.\n",
    "class Car:\n",
    "    \n",
    "    def prints(BRAND,MODEL):\n",
    "        print(\"BRAND:\",BRAND)\n",
    "        print(\"MODEL:\",MODEL)\n",
    "\n",
    "CARS=Car\n",
    "\n",
    "CARS.prints(\"BMW\",\"BM07\")"
   ]
  },
  {
   "cell_type": "code",
   "execution_count": 22,
   "id": "c32eebb4",
   "metadata": {},
   "outputs": [
    {
     "name": "stdout",
     "output_type": "stream",
     "text": [
      "Name: tiger\n",
      "legs: 4\n",
      "tpye: German Shepherd\n"
     ]
    }
   ],
   "source": [
    "#Create an object of class Dog and print its attributes.\n",
    "class Dog:\n",
    "    def mydog(color,legs,name,type):\n",
    "        print(\"Name:\",name)\n",
    "        print(\"legs:\",legs)\n",
    "        print(\"tpye:\",type)\n",
    "\n",
    "\n",
    "DOgs=Dog\n",
    "DOgs.mydog(\"black\",4, \"tiger\",\"German Shepherd\",)"
   ]
  },
  {
   "cell_type": "code",
   "execution_count": 21,
   "id": "704742cb",
   "metadata": {},
   "outputs": [
    {
     "name": "stdout",
     "output_type": "stream",
     "text": [
      "Name: Sahil\n",
      "Roll: 191598132\n"
     ]
    }
   ],
   "source": [
    "#Define a class Student and assign roll number & name.\n",
    "\n",
    "class Student:\n",
    "     def id(name,roll):\n",
    "          print(\"Name:\",name)\n",
    "          print(\"Roll:\",roll)\n",
    "\n",
    "Students=Student\n",
    "Students.id(\"Sahil\",191598132)"
   ]
  },
  {
   "cell_type": "code",
   "execution_count": 20,
   "id": "53bd0c93",
   "metadata": {},
   "outputs": [
    {
     "name": "stdout",
     "output_type": "stream",
     "text": [
      "Title: Yayati\n",
      "Author: V. S. Khandekar\n"
     ]
    }
   ],
   "source": [
    "#Create a class Book and store title and author.\n",
    "class Book:\n",
    "     def Bookinfo(title,author):\n",
    "          print(\"Title:\",title)\n",
    "          print(\"Author:\",author)\n",
    "\n",
    "Books=Book\n",
    "Books.Bookinfo(\"Yayati\",\"V. S. Khandekar\")"
   ]
  },
  {
   "cell_type": "code",
   "execution_count": 18,
   "id": "d25d071a",
   "metadata": {},
   "outputs": [
    {
     "name": "stdout",
     "output_type": "stream",
     "text": [
      "Price: 25000\n",
      "Brand: HP\n"
     ]
    }
   ],
   "source": [
    "#Create a class Laptop with price and brand.\n",
    "\n",
    "class Laptop:\n",
    "    def laptopinfo(price,brand):\n",
    "        print(\"Price:\",price)\n",
    "        print(\"Brand:\",brand)\n",
    "\n",
    "Laptops=Laptop\n",
    "Laptops.laptopinfo(25000,\"HP\")\n"
   ]
  },
  {
   "cell_type": "code",
   "execution_count": 28,
   "id": "aef67e7b",
   "metadata": {},
   "outputs": [
    {
     "name": "stdout",
     "output_type": "stream",
     "text": [
      "Name: Sahil\n",
      "ID: 233\n",
      "post: ML Engineer\n",
      "salary: $5000\n",
      "Name: Sahil\n",
      "ID: 233\n",
      "post: Software Engineer\n",
      "salary: $5000\n"
     ]
    }
   ],
   "source": [
    "#Instantiate multiple objects of class Employee.\n",
    "\n",
    "class Employee:\n",
    "    def employeInfo(name,id,post,salary):\n",
    "        print(\"Name:\",name)\n",
    "        print(\"ID:\",id)\n",
    "        print(\"post:\",post)\n",
    "        print(\"salary:\",salary)\n",
    "   \n",
    "\n",
    "Emp1=Employee\n",
    "Emp2=Employee\n",
    "\n",
    "Emp1.employeInfo(\"Sahil\",233,\"ML Engineer\",\"$5000\")\n",
    "Emp2.employeInfo(\"Sahil\",233,\"Software Engineer\",\"$5000\")\n"
   ]
  },
  {
   "cell_type": "code",
   "execution_count": null,
   "id": "8bf952d6",
   "metadata": {},
   "outputs": [
    {
     "name": "stdout",
     "output_type": "stream",
     "text": [
      "Circle Area: 113.39999999999999\n",
      "Circle Area: 154.35\n"
     ]
    }
   ],
   "source": [
    "#Create a class Circle with radius and calculate area.\n",
    "class Circle:\n",
    "    def Area(radius):\n",
    "        return 3.15*(radius*radius)\n",
    "\n",
    "\n",
    "Circle1=Circle\n",
    "print(\"Circle Area:\",Circle.Area(6))\n",
    "print(\"Circle Area:\",Circle.Area(7))\n"
   ]
  },
  {
   "cell_type": "code",
   "execution_count": 30,
   "id": "8eeb912d",
   "metadata": {},
   "outputs": [
    {
     "name": "stdout",
     "output_type": "stream",
     "text": [
      "name: Sahil\n",
      "age: 21\n",
      "address: AT POST BASNI RATNAGIRI MAHARASHTRA\n"
     ]
    }
   ],
   "source": [
    "#Define a class Person with a method to introduce.\n",
    "class Person:\n",
    "    def intro(name,age,address):\n",
    "        print(\"name:\",name)\n",
    "        print(\"age:\",age)\n",
    "        print(\"address:\",address)\n",
    "\n",
    "\n",
    "Person1=Person\n",
    "Person1.intro(\"Sahil\",21,\"AT POST BASNI RATNAGIRI MAHARASHTRA\")\n"
   ]
  },
  {
   "cell_type": "code",
   "execution_count": null,
   "id": "7f8392f5",
   "metadata": {},
   "outputs": [
    {
     "name": "stdout",
     "output_type": "stream",
     "text": [
      "Company Name: samsung\n",
      "model: A20\n",
      "Company Name: oppo\n",
      "model: B20\n",
      "Company Name: google\n",
      "model: C20\n"
     ]
    }
   ],
   "source": [
    "#Write a class Mobile with company and model attributes.\n",
    "\n",
    "class Mobile:\n",
    "     def info(companyName,model):\n",
    "          print(\"Company Name:\",companyName)\n",
    "          print(\"model:\",model)\n",
    "     \n",
    "Mobile1=Mobile\n",
    "Mobile1.info(\"samsung\",\"A20\")\n",
    "Mobile1.info(\"oppo\",\"B20\")\n",
    "Mobile1.info(\"google\",\"C20\")"
   ]
  },
  {
   "cell_type": "code",
   "execution_count": 69,
   "id": "5136820f",
   "metadata": {},
   "outputs": [
    {
     "name": "stdout",
     "output_type": "stream",
     "text": [
      "Initial Balance: 0\n",
      "Updated Balance: 500133\n"
     ]
    }
   ],
   "source": [
    "#Create class Account and add attribute balance\n",
    "class Account:\n",
    "  balance = 0   \n",
    "\n",
    "acc1 = Account()\n",
    "print(\"Initial Balance:\", acc1.balance)\n",
    "\n",
    "acc1.balance = 5000\n",
    "acc1.balance = 5001\n",
    "acc1.balance = 500133\n",
    "print(\"Updated Balance:\", acc1.balance)\n",
    "    "
   ]
  },
  {
   "cell_type": "code",
   "execution_count": null,
   "id": "e174c6f7",
   "metadata": {},
   "outputs": [
    {
     "name": "stdout",
     "output_type": "stream",
     "text": [
      "***************************construcotor**********************************************\n"
     ]
    }
   ],
   "source": [
    "print(\"*********************************construcotor**********************************************\")"
   ]
  },
  {
   "cell_type": "code",
   "execution_count": null,
   "id": "4f615b54",
   "metadata": {},
   "outputs": [
    {
     "name": "stdout",
     "output_type": "stream",
     "text": [
      "Brand: BMW\n",
      "year: 1999\n"
     ]
    }
   ],
   "source": [
    "#Define a constructor in Car class to initialize brand and year.\n",
    "class Car:\n",
    "    def __init__(self,brand,year):\n",
    "         self.brand=brand\n",
    "         self.year=year\n",
    "\n",
    "    def printinfo(self):\n",
    "         print(\"Brand:\",self.brand)\n",
    "         print(\"year:\",self.year)\n",
    "\n",
    "\n",
    "Car1=Car(\"BMW\",1999)\n",
    "Car1.printinfo()\n"
   ]
  },
  {
   "cell_type": "code",
   "execution_count": null,
   "id": "2ded84c0",
   "metadata": {},
   "outputs": [],
   "source": [
    "#Write a constructor for Student to initialize name and marks.\n"
   ]
  }
 ],
 "metadata": {
  "kernelspec": {
   "display_name": "base",
   "language": "python",
   "name": "python3"
  },
  "language_info": {
   "codemirror_mode": {
    "name": "ipython",
    "version": 3
   },
   "file_extension": ".py",
   "mimetype": "text/x-python",
   "name": "python",
   "nbconvert_exporter": "python",
   "pygments_lexer": "ipython3",
   "version": "3.12.7"
  }
 },
 "nbformat": 4,
 "nbformat_minor": 5
}
