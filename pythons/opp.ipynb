{
 "cells": [
  {
   "cell_type": "code",
   "execution_count": 23,
   "id": "44893481",
   "metadata": {},
   "outputs": [
    {
     "name": "stdout",
     "output_type": "stream",
     "text": [
      "BRAND: BMW\n",
      "MODEL: BM07\n"
     ]
    }
   ],
   "source": [
    "#Create a class Car with attributes brand and model.\n",
    "class Car:\n",
    "    \n",
    "    def prints(BRAND,MODEL):\n",
    "        print(\"BRAND:\",BRAND)\n",
    "        print(\"MODEL:\",MODEL)\n",
    "\n",
    "CARS=Car\n",
    "\n",
    "CARS.prints(\"BMW\",\"BM07\")"
   ]
  },
  {
   "cell_type": "code",
   "execution_count": 22,
   "id": "c32eebb4",
   "metadata": {},
   "outputs": [
    {
     "name": "stdout",
     "output_type": "stream",
     "text": [
      "Name: tiger\n",
      "legs: 4\n",
      "tpye: German Shepherd\n"
     ]
    }
   ],
   "source": [
    "#Create an object of class Dog and print its attributes.\n",
    "class Dog:\n",
    "    def mydog(color,legs,name,type):\n",
    "        print(\"Name:\",name)\n",
    "        print(\"legs:\",legs)\n",
    "        print(\"tpye:\",type)\n",
    "\n",
    "\n",
    "DOgs=Dog\n",
    "DOgs.mydog(\"black\",4, \"tiger\",\"German Shepherd\",)"
   ]
  },
  {
   "cell_type": "code",
   "execution_count": 21,
   "id": "704742cb",
   "metadata": {},
   "outputs": [
    {
     "name": "stdout",
     "output_type": "stream",
     "text": [
      "Name: Sahil\n",
      "Roll: 191598132\n"
     ]
    }
   ],
   "source": [
    "#Define a class Student and assign roll number & name.\n",
    "\n",
    "class Student:\n",
    "     def id(name,roll):\n",
    "          print(\"Name:\",name)\n",
    "          print(\"Roll:\",roll)\n",
    "\n",
    "Students=Student\n",
    "Students.id(\"Sahil\",191598132)"
   ]
  },
  {
   "cell_type": "code",
   "execution_count": 20,
   "id": "53bd0c93",
   "metadata": {},
   "outputs": [
    {
     "name": "stdout",
     "output_type": "stream",
     "text": [
      "Title: Yayati\n",
      "Author: V. S. Khandekar\n"
     ]
    }
   ],
   "source": [
    "#Create a class Book and store title and author.\n",
    "class Book:\n",
    "     def Bookinfo(title,author):\n",
    "          print(\"Title:\",title)\n",
    "          print(\"Author:\",author)\n",
    "\n",
    "Books=Book\n",
    "Books.Bookinfo(\"Yayati\",\"V. S. Khandekar\")"
   ]
  },
  {
   "cell_type": "code",
   "execution_count": 18,
   "id": "d25d071a",
   "metadata": {},
   "outputs": [
    {
     "name": "stdout",
     "output_type": "stream",
     "text": [
      "Price: 25000\n",
      "Brand: HP\n"
     ]
    }
   ],
   "source": [
    "#Create a class Laptop with price and brand.\n",
    "\n",
    "class Laptop:\n",
    "    def laptopinfo(price,brand):\n",
    "        print(\"Price:\",price)\n",
    "        print(\"Brand:\",brand)\n",
    "\n",
    "Laptops=Laptop\n",
    "Laptops.laptopinfo(25000,\"HP\")\n"
   ]
  },
  {
   "cell_type": "code",
   "execution_count": 28,
   "id": "aef67e7b",
   "metadata": {},
   "outputs": [
    {
     "name": "stdout",
     "output_type": "stream",
     "text": [
      "Name: Sahil\n",
      "ID: 233\n",
      "post: ML Engineer\n",
      "salary: $5000\n",
      "Name: Sahil\n",
      "ID: 233\n",
      "post: Software Engineer\n",
      "salary: $5000\n"
     ]
    }
   ],
   "source": [
    "#Instantiate multiple objects of class Employee.\n",
    "\n",
    "class Employee:\n",
    "    def employeInfo(name,id,post,salary):\n",
    "        print(\"Name:\",name)\n",
    "        print(\"ID:\",id)\n",
    "        print(\"post:\",post)\n",
    "        print(\"salary:\",salary)\n",
    "   \n",
    "\n",
    "Emp1=Employee\n",
    "Emp2=Employee\n",
    "\n",
    "Emp1.employeInfo(\"Sahil\",233,\"ML Engineer\",\"$5000\")\n",
    "Emp2.employeInfo(\"Sahil\",233,\"Software Engineer\",\"$5000\")\n"
   ]
  },
  {
   "cell_type": "code",
   "execution_count": null,
   "id": "8bf952d6",
   "metadata": {},
   "outputs": [
    {
     "name": "stdout",
     "output_type": "stream",
     "text": [
      "Circle Area: 113.39999999999999\n",
      "Circle Area: 154.35\n"
     ]
    }
   ],
   "source": [
    "#Create a class Circle with radius and calculate area.\n",
    "class Circle:\n",
    "    def Area(radius):\n",
    "        return 3.15*(radius*radius)\n",
    "\n",
    "\n",
    "Circle1=Circle\n",
    "print(\"Circle Area:\",Circle.Area(6))\n",
    "print(\"Circle Area:\",Circle.Area(7))\n"
   ]
  },
  {
   "cell_type": "code",
   "execution_count": 30,
   "id": "8eeb912d",
   "metadata": {},
   "outputs": [
    {
     "name": "stdout",
     "output_type": "stream",
     "text": [
      "name: Sahil\n",
      "age: 21\n",
      "address: AT POST BASNI RATNAGIRI MAHARASHTRA\n"
     ]
    }
   ],
   "source": [
    "#Define a class Person with a method to introduce.\n",
    "class Person:\n",
    "    def intro(name,age,address):\n",
    "        print(\"name:\",name)\n",
    "        print(\"age:\",age)\n",
    "        print(\"address:\",address)\n",
    "\n",
    "\n",
    "Person1=Person\n",
    "Person1.intro(\"Sahil\",21,\"AT POST BASNI RATNAGIRI MAHARASHTRA\")\n"
   ]
  },
  {
   "cell_type": "code",
   "execution_count": null,
   "id": "7f8392f5",
   "metadata": {},
   "outputs": [
    {
     "name": "stdout",
     "output_type": "stream",
     "text": [
      "Company Name: samsung\n",
      "model: A20\n",
      "Company Name: oppo\n",
      "model: B20\n",
      "Company Name: google\n",
      "model: C20\n"
     ]
    }
   ],
   "source": [
    "#Write a class Mobile with company and model attributes.\n",
    "\n",
    "class Mobile:\n",
    "     def info(companyName,model):\n",
    "          print(\"Company Name:\",companyName)\n",
    "          print(\"model:\",model)\n",
    "     \n",
    "Mobile1=Mobile\n",
    "Mobile1.info(\"samsung\",\"A20\")\n",
    "Mobile1.info(\"oppo\",\"B20\")\n",
    "Mobile1.info(\"google\",\"C20\")"
   ]
  },
  {
   "cell_type": "code",
   "execution_count": 69,
   "id": "5136820f",
   "metadata": {},
   "outputs": [
    {
     "name": "stdout",
     "output_type": "stream",
     "text": [
      "Initial Balance: 0\n",
      "Updated Balance: 500133\n"
     ]
    }
   ],
   "source": [
    "#Create class Account and add attribute balance\n",
    "class Account:\n",
    "  balance = 0   \n",
    "\n",
    "acc1 = Account()\n",
    "print(\"Initial Balance:\", acc1.balance)\n",
    "\n",
    "acc1.balance = 5000\n",
    "acc1.balance = 5001\n",
    "acc1.balance = 500133\n",
    "print(\"Updated Balance:\", acc1.balance)\n",
    "    "
   ]
  },
  {
   "cell_type": "code",
   "execution_count": null,
   "id": "e174c6f7",
   "metadata": {},
   "outputs": [
    {
     "name": "stdout",
     "output_type": "stream",
     "text": [
      "***************************construcotor**********************************************\n"
     ]
    }
   ],
   "source": [
    "print(\"*********************************construcotor**********************************************\")"
   ]
  },
  {
   "cell_type": "code",
   "execution_count": null,
   "id": "4f615b54",
   "metadata": {},
   "outputs": [
    {
     "name": "stdout",
     "output_type": "stream",
     "text": [
      "Brand: BMW\n",
      "year: 1999\n"
     ]
    }
   ],
   "source": [
    "#Define a constructor in Car class to initialize brand and year.\n",
    "class Car:\n",
    "    def __init__(self,brand,year):\n",
    "         self.brand=brand\n",
    "         self.year=year\n",
    "\n",
    "    def printinfo(self):\n",
    "         print(\"Brand:\",self.brand)\n",
    "         print(\"year:\",self.year)\n",
    "\n",
    "\n",
    "Car1=Car(\"BMW\",1999)\n",
    "Car1.printinfo()\n"
   ]
  },
  {
   "cell_type": "code",
   "execution_count": 1,
   "id": "2ded84c0",
   "metadata": {},
   "outputs": [
    {
     "name": "stdout",
     "output_type": "stream",
     "text": [
      "Name: Sahil\n",
      "marks: 95.76\n"
     ]
    }
   ],
   "source": [
    "#Write a constructor for Student to initialize name and marks.\n",
    "class Student:\n",
    "     def __init__(self,name,marks):\n",
    "          self.name=name\n",
    "          self.marks=marks\n",
    "    \n",
    "     def printStudentInfo(self):\n",
    "          print(\"Name:\",self.name)\n",
    "          print(\"marks:\",self.marks)\n",
    "\n",
    "\n",
    "Students=Student(\"Sahil\",95.76)\n",
    "Students.printStudentInfo()"
   ]
  },
  {
   "cell_type": "code",
   "execution_count": 54,
   "id": "8d670b9f",
   "metadata": {},
   "outputs": [
    {
     "name": "stdout",
     "output_type": "stream",
     "text": [
      "my balance is:2000\n",
      "my balance is:2001000079999\n"
     ]
    }
   ],
   "source": [
    "#Create a class BankAccount that initializes with balance\n",
    "\n",
    "class BankAccount:\n",
    "     \n",
    "     def __init__(self,balance):\n",
    "          self.balance=balance\n",
    "          \n",
    "     def showBalance(self):\n",
    "          print(f\"my balance is:{self.balance}\")\n",
    "\n",
    "BankAccount1=BankAccount(2000)\n",
    "BankAccount1.showBalance()\n",
    "BankAccount2=BankAccount(2001000079999)\n",
    "BankAccount2.showBalance()"
   ]
  },
  {
   "cell_type": "code",
   "execution_count": 53,
   "id": "746fef1c",
   "metadata": {},
   "outputs": [
    {
     "name": "stdout",
     "output_type": "stream",
     "text": [
      "Title: vasudev\n",
      "price: 2000\n",
      "Title: yayati\n",
      "price: 2003\n"
     ]
    }
   ],
   "source": [
    "#Define constructor for Book to store title and price.\n",
    "class Book:\n",
    "      def __init__(self,title,price):\n",
    "            self.title=title\n",
    "            self.price=price\n",
    "\n",
    "      def printBookinfo(self):\n",
    "          print(\"Title:\",self.title)\n",
    "          print(\"price:\",self.price)\n",
    "\n",
    "\n",
    "Book1=Book(\"vasudev\",2000)\n",
    "Book1.printBookinfo()\n",
    "Book2=Book(\"yayati\",2003)\n",
    "Book2.printBookinfo()\n"
   ]
  },
  {
   "cell_type": "code",
   "execution_count": 39,
   "id": "44a510ba",
   "metadata": {},
   "outputs": [
    {
     "name": "stdout",
     "output_type": "stream",
     "text": [
      "id: 23\n",
      "salary: 20000\n"
     ]
    }
   ],
   "source": [
    "#Create a class Employee initializing with id and salary.\n",
    "class Employee:\n",
    "     def __init__(self,id,salary):\n",
    "          self.id=id\n",
    "          self.salary=salary\n",
    "     \n",
    "     def printid(self):\n",
    "          print(\"id:\",self.id)\n",
    "          print(\"salary:\",self.salary)\n",
    "\n",
    "Employee1=Employee(23,20000)\n",
    "Employee1.printid()\n"
   ]
  },
  {
   "cell_type": "code",
   "execution_count": 52,
   "id": "42b16f35",
   "metadata": {},
   "outputs": [
    {
     "name": "stdout",
     "output_type": "stream",
     "text": [
      "(0,0)\n",
      "(5,6)\n"
     ]
    }
   ],
   "source": [
    "#Write constructor for Point with x and y coordinates.\n",
    "\n",
    "class point:\n",
    "       def __init__(self,x,y):\n",
    "              self.x=x\n",
    "              self.y=y      \n",
    "       def printxy(self):\n",
    "            print(f\"({self.x},{self.y})\")\n",
    "\n",
    "\n",
    "point1=point(0,0)\n",
    "point1.printxy()\n",
    "point2=point(5,6)\n",
    "point2.printxy()\n"
   ]
  },
  {
   "cell_type": "code",
   "execution_count": null,
   "id": "6a33b843",
   "metadata": {},
   "outputs": [
    {
     "name": "stdout",
     "output_type": "stream",
     "text": [
      "Rectangle area is:12\n"
     ]
    }
   ],
   "source": [
    "#Define class that initializes length and width.\n",
    "class Rectangle:\n",
    "    def __init__(self,length,width):\n",
    "         self.length=length\n",
    "         self.width=width\n",
    "     \n",
    "    def printArea(self):\n",
    "          print(f\"Rectangle area is:{self.length*self.width}\")\n",
    "\n",
    "Rectangle1=Rectangle(5,2)\n",
    "Rectangle1.printArea()"
   ]
  },
  {
   "cell_type": "code",
   "execution_count": 47,
   "id": "736c6e8b",
   "metadata": {},
   "outputs": [
    {
     "name": "stdout",
     "output_type": "stream",
     "text": [
      "RAM: 4GB\n",
      "storage: 128TB\n"
     ]
    }
   ],
   "source": [
    "#Create a constructor for Laptop to initialize RAM and storage.\n",
    "class Laptop:\n",
    "      def __init__(self,RAM,storage):\n",
    "            self.RAM=RAM\n",
    "            self.storage=storage\n",
    "        \n",
    "      def printInfo(self):\n",
    "        print(\"RAM:\",self.RAM)\n",
    "        print(\"storage:\",self.storage)\n",
    "\n",
    "Laptop1=Laptop(\"4GB\",\"128TB\")\n",
    "Laptop1.printInfo()"
   ]
  },
  {
   "cell_type": "code",
   "execution_count": 57,
   "id": "9a30e90e",
   "metadata": {},
   "outputs": [
    {
     "name": "stdout",
     "output_type": "stream",
     "text": [
      "name: S.R.Kambale\n",
      "subject: MATH\n",
      "name: P.K.Naik\n",
      "subject: Machine learning\n"
     ]
    }
   ],
   "source": [
    "#Write class Teacher with name and subject initialized via constructor.\n",
    "class Teacher:\n",
    "     def __init__(self,name,subject):\n",
    "          self.name=name\n",
    "          self.subject=subject\n",
    "\n",
    "     def printSchoolInfo(self):\n",
    "          print(\"name:\",self.name)\n",
    "          print(\"subject:\",self.subject)\n",
    "\n",
    "Teacher1=Teacher(\"S.R.Kambale\",\"MATH\")\n",
    "Teacher2=Teacher(\"P.K.Naik\",\"Machine learning\")\n",
    "\n",
    "Teacher1.printSchoolInfo()\n",
    "Teacher2.printSchoolInfo()\n"
   ]
  },
  {
   "cell_type": "code",
   "execution_count": null,
   "id": "57b6994b",
   "metadata": {},
   "outputs": [
    {
     "name": "stdout",
     "output_type": "stream",
     "text": [
      "subject created!\n",
      "name: S.R.Kambale\n",
      "subject: MATH\n",
      "subject created!\n",
      "name: P.K.Naik\n",
      "subject: Machine learning\n"
     ]
    }
   ],
   "source": [
    "#Create a constructor that prints message \"Object created\".\n",
    "class Teacher:\n",
    "     def __init__(self,name,subject):\n",
    "          self.name=name\n",
    "          self.subject=subject\n",
    "          print(\"subject created!\")\n",
    "          \n",
    "     def printSchoolInfo(self):\n",
    "          print(\"name:\",self.name)\n",
    "          print(\"subject:\",self.subject)\n",
    "\n",
    "Teacher1=Teacher(\"S.R.Kambale\",\"MATH\")\n",
    "Teacher1.printSchoolInfo()\n",
    "Teacher2=Teacher(\"P.K.Naik\",\"Machine learning\")\n",
    "Teacher2.printSchoolInfo()"
   ]
  },
  {
   "cell_type": "code",
   "execution_count": null,
   "id": "bcb33155",
   "metadata": {},
   "outputs": [],
   "source": [
    "print(\"**************************************Instance & Class Variables*********************************************************\")"
   ]
  },
  {
   "cell_type": "code",
   "execution_count": 61,
   "id": "abb3f9de",
   "metadata": {},
   "outputs": [
    {
     "name": "stdout",
     "output_type": "stream",
     "text": [
      "name: Sahil\n"
     ]
    }
   ],
   "source": [
    "#Create a class Student with instance variable name.\n",
    "class Student:\n",
    "     def __init__(self,name):\n",
    "          self.name=name\n",
    "\n",
    "Student1=Student(\"Sahil\")\n",
    "print(\"name:\",Student1.name)"
   ]
  },
  {
   "cell_type": "code",
   "execution_count": 74,
   "id": "56e956fa",
   "metadata": {},
   "outputs": [
    {
     "name": "stdout",
     "output_type": "stream",
     "text": [
      "created object!\n",
      "name:Sahil\n",
      "school name:Finolex Academy\n"
     ]
    }
   ],
   "source": [
    "#Add class variable school for all Student objects.\n",
    "class Student:\n",
    "     \n",
    "     school_name=\"GOVERNMENT POLYECHNIC!\"\n",
    "\n",
    "     def __init__(self,name):\n",
    "         self.name=name\n",
    "         print(\"created object!\")\n",
    "\n",
    "Student1=Student(\"Sahil\")\n",
    "Student.school_name=\"Finolex Academy\"\n",
    "print(f\"name:{Student1.name}\\nschool name:{Student.school_name}\")"
   ]
  },
  {
   "cell_type": "code",
   "execution_count": null,
   "id": "fcaa5dd1",
   "metadata": {},
   "outputs": [
    {
     "name": "stdout",
     "output_type": "stream",
     "text": [
      "modify!\n",
      "Tiger\n",
      "modify!\n",
      "Leopard\n"
     ]
    }
   ],
   "source": [
    "#modify instance variable without affecting others.\n",
    "class Animal:\n",
    "      def __init__(self,name):\n",
    "        self.name=name\n",
    "        print(\"modify!\")\n",
    "        \n",
    "Animal1=Animal(\"Tiger\")\n",
    "print(Animal1.name)\n",
    "Animal2=Animal(\"Lione\")\n",
    "Animal2.name=\"Leopard\"\n",
    "print(Animal2.name)"
   ]
  },
  {
   "cell_type": "code",
   "execution_count": null,
   "id": "3d48bf6a",
   "metadata": {},
   "outputs": [
    {
     "name": "stdout",
     "output_type": "stream",
     "text": [
      "Rahul - ABC School\n",
      "Priya - ABC School\n",
      "\n",
      "After changing class variable:\n",
      "Rahul - XYZ School\n",
      "Priya - XYZ School\n"
     ]
    }
   ],
   "source": [
    "# change class variable using class name\n",
    "class Student:\n",
    "    school_name = \"ABC School\"   # class variable\n",
    "\n",
    "    def __init__(self, name):\n",
    "        self.name = name\n",
    "\n",
    "\n",
    "s1 = Student(\"Rahul\")\n",
    "s2 = Student(\"Priya\")\n",
    "\n",
    "print(s1.name, \"-\", s1.school_name)\n",
    "print(s2.name, \"-\", s2.school_name)\n",
    "\n",
    "# change class variable using class name\n",
    "Student.school_name = \"XYZ School\"\n",
    "\n",
    "print(\"\\nAfter changing class variable:\")\n",
    "print(s1.name, \"-\", s1.school_name)\n",
    "print(s2.name, \"-\", s2.school_name)\n"
   ]
  },
  {
   "cell_type": "code",
   "execution_count": 85,
   "id": "5a6ec4c5",
   "metadata": {},
   "outputs": [
    {
     "name": "stdout",
     "output_type": "stream",
     "text": [
      "name:Sahil\n",
      "Home town:basni\n",
      "name:Sahil\n",
      "Home town:MUMBAI\n",
      "name:simran\n",
      "Home town:shirgav\n"
     ]
    }
   ],
   "source": [
    "#Show difference between instance and class variables.\n",
    "class person:\n",
    "     Hometown=\"basni\" #class vaaribale\n",
    "\n",
    "     def __init__(self,name):\n",
    "          self.name=name; # instance variable\n",
    "\n",
    "person1=person(\"Sahil\")\n",
    "person2=person(\"simran\")\n",
    "print(f\"name:{person1.name}\\nHome town:{person.Hometown}\")\n",
    "\n",
    "person.Hometown=\"MUMBAI\"\n",
    "person2.name=\"simran\"\n",
    "print(f\"name:{person1.name}\\nHome town:{person.Hometown}\")\n",
    "person.Hometown=\"shirgav\"\n",
    "print(f\"name:{person2.name}\\nHome town:{person.Hometown}\")\n"
   ]
  }
 ],
 "metadata": {
  "kernelspec": {
   "display_name": "base",
   "language": "python",
   "name": "python3"
  },
  "language_info": {
   "codemirror_mode": {
    "name": "ipython",
    "version": 3
   },
   "file_extension": ".py",
   "mimetype": "text/x-python",
   "name": "python",
   "nbconvert_exporter": "python",
   "pygments_lexer": "ipython3",
   "version": "3.12.7"
  }
 },
 "nbformat": 4,
 "nbformat_minor": 5
}
